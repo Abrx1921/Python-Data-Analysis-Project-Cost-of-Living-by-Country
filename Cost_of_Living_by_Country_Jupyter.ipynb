{
 "cells": [
  {
   "cell_type": "markdown",
   "id": "dc42a8f5-fc55-49c4-a9ba-d93216787940",
   "metadata": {},
   "source": [
    "# Project: Cost of Living Index by Country"
   ]
  },
  {
   "cell_type": "markdown",
   "id": "36e21a6a-e3bc-46ed-9144-35abfd61ff0a",
   "metadata": {},
   "source": [
    "## Import Libraries, Data and Perform Exploratory Analysis"
   ]
  },
  {
   "cell_type": "code",
   "execution_count": 2,
   "id": "6418f86f-40a5-40e9-9fb3-3a467344525b",
   "metadata": {},
   "outputs": [],
   "source": [
    "# Import Libraries\n",
    "import pandas as pd"
   ]
  },
  {
   "cell_type": "code",
   "execution_count": 3,
   "id": "f6890d72-2e80-4f6d-8e3c-78fad430b381",
   "metadata": {},
   "outputs": [],
   "source": [
    "# Load Dataset\n",
    "data = pd.read_csv('Cost_of_Living_Index_by_Country_2024.csv')"
   ]
  },
  {
   "cell_type": "code",
   "execution_count": 5,
   "id": "1a3c0887-ca33-4479-9f3c-44054d63ef64",
   "metadata": {},
   "outputs": [
    {
     "data": {
      "text/html": [
       "<div>\n",
       "<style scoped>\n",
       "    .dataframe tbody tr th:only-of-type {\n",
       "        vertical-align: middle;\n",
       "    }\n",
       "\n",
       "    .dataframe tbody tr th {\n",
       "        vertical-align: top;\n",
       "    }\n",
       "\n",
       "    .dataframe thead th {\n",
       "        text-align: right;\n",
       "    }\n",
       "</style>\n",
       "<table border=\"1\" class=\"dataframe\">\n",
       "  <thead>\n",
       "    <tr style=\"text-align: right;\">\n",
       "      <th></th>\n",
       "      <th>Rank</th>\n",
       "      <th>Country</th>\n",
       "      <th>Cost of Living Index</th>\n",
       "      <th>Rent Index</th>\n",
       "      <th>Cost of Living Plus Rent Index</th>\n",
       "      <th>Groceries Index</th>\n",
       "      <th>Restaurant Price Index</th>\n",
       "      <th>Local Purchasing Power Index</th>\n",
       "    </tr>\n",
       "  </thead>\n",
       "  <tbody>\n",
       "    <tr>\n",
       "      <th>0</th>\n",
       "      <td>1</td>\n",
       "      <td>Switzerland</td>\n",
       "      <td>101.1</td>\n",
       "      <td>46.5</td>\n",
       "      <td>74.9</td>\n",
       "      <td>109.1</td>\n",
       "      <td>97.0</td>\n",
       "      <td>158.7</td>\n",
       "    </tr>\n",
       "    <tr>\n",
       "      <th>1</th>\n",
       "      <td>2</td>\n",
       "      <td>Bahamas</td>\n",
       "      <td>85.0</td>\n",
       "      <td>36.7</td>\n",
       "      <td>61.8</td>\n",
       "      <td>81.6</td>\n",
       "      <td>83.3</td>\n",
       "      <td>54.6</td>\n",
       "    </tr>\n",
       "    <tr>\n",
       "      <th>2</th>\n",
       "      <td>3</td>\n",
       "      <td>Iceland</td>\n",
       "      <td>83.0</td>\n",
       "      <td>39.2</td>\n",
       "      <td>62.0</td>\n",
       "      <td>88.4</td>\n",
       "      <td>86.8</td>\n",
       "      <td>120.3</td>\n",
       "    </tr>\n",
       "    <tr>\n",
       "      <th>3</th>\n",
       "      <td>4</td>\n",
       "      <td>Singapore</td>\n",
       "      <td>76.7</td>\n",
       "      <td>67.2</td>\n",
       "      <td>72.1</td>\n",
       "      <td>74.6</td>\n",
       "      <td>50.4</td>\n",
       "      <td>111.1</td>\n",
       "    </tr>\n",
       "    <tr>\n",
       "      <th>4</th>\n",
       "      <td>5</td>\n",
       "      <td>Barbados</td>\n",
       "      <td>76.6</td>\n",
       "      <td>19.0</td>\n",
       "      <td>48.9</td>\n",
       "      <td>80.8</td>\n",
       "      <td>69.4</td>\n",
       "      <td>43.5</td>\n",
       "    </tr>\n",
       "    <tr>\n",
       "      <th>...</th>\n",
       "      <td>...</td>\n",
       "      <td>...</td>\n",
       "      <td>...</td>\n",
       "      <td>...</td>\n",
       "      <td>...</td>\n",
       "      <td>...</td>\n",
       "      <td>...</td>\n",
       "      <td>...</td>\n",
       "    </tr>\n",
       "    <tr>\n",
       "      <th>116</th>\n",
       "      <td>117</td>\n",
       "      <td>Bangladesh</td>\n",
       "      <td>22.5</td>\n",
       "      <td>2.4</td>\n",
       "      <td>12.8</td>\n",
       "      <td>25.7</td>\n",
       "      <td>12.8</td>\n",
       "      <td>33.1</td>\n",
       "    </tr>\n",
       "    <tr>\n",
       "      <th>117</th>\n",
       "      <td>118</td>\n",
       "      <td>India</td>\n",
       "      <td>21.2</td>\n",
       "      <td>5.6</td>\n",
       "      <td>13.7</td>\n",
       "      <td>23.8</td>\n",
       "      <td>15.1</td>\n",
       "      <td>82.6</td>\n",
       "    </tr>\n",
       "    <tr>\n",
       "      <th>118</th>\n",
       "      <td>119</td>\n",
       "      <td>Egypt</td>\n",
       "      <td>21.0</td>\n",
       "      <td>3.7</td>\n",
       "      <td>12.7</td>\n",
       "      <td>21.2</td>\n",
       "      <td>16.2</td>\n",
       "      <td>20.0</td>\n",
       "    </tr>\n",
       "    <tr>\n",
       "      <th>119</th>\n",
       "      <td>120</td>\n",
       "      <td>Libya</td>\n",
       "      <td>20.4</td>\n",
       "      <td>4.3</td>\n",
       "      <td>12.7</td>\n",
       "      <td>22.2</td>\n",
       "      <td>15.2</td>\n",
       "      <td>42.0</td>\n",
       "    </tr>\n",
       "    <tr>\n",
       "      <th>120</th>\n",
       "      <td>121</td>\n",
       "      <td>Pakistan</td>\n",
       "      <td>18.8</td>\n",
       "      <td>2.8</td>\n",
       "      <td>11.1</td>\n",
       "      <td>17.5</td>\n",
       "      <td>12.9</td>\n",
       "      <td>29.1</td>\n",
       "    </tr>\n",
       "  </tbody>\n",
       "</table>\n",
       "<p>121 rows × 8 columns</p>\n",
       "</div>"
      ],
      "text/plain": [
       "     Rank      Country  Cost of Living Index  Rent Index  \\\n",
       "0       1  Switzerland                 101.1        46.5   \n",
       "1       2      Bahamas                  85.0        36.7   \n",
       "2       3      Iceland                  83.0        39.2   \n",
       "3       4    Singapore                  76.7        67.2   \n",
       "4       5     Barbados                  76.6        19.0   \n",
       "..    ...          ...                   ...         ...   \n",
       "116   117   Bangladesh                  22.5         2.4   \n",
       "117   118        India                  21.2         5.6   \n",
       "118   119        Egypt                  21.0         3.7   \n",
       "119   120        Libya                  20.4         4.3   \n",
       "120   121     Pakistan                  18.8         2.8   \n",
       "\n",
       "     Cost of Living Plus Rent Index  Groceries Index  Restaurant Price Index  \\\n",
       "0                              74.9            109.1                    97.0   \n",
       "1                              61.8             81.6                    83.3   \n",
       "2                              62.0             88.4                    86.8   \n",
       "3                              72.1             74.6                    50.4   \n",
       "4                              48.9             80.8                    69.4   \n",
       "..                              ...              ...                     ...   \n",
       "116                            12.8             25.7                    12.8   \n",
       "117                            13.7             23.8                    15.1   \n",
       "118                            12.7             21.2                    16.2   \n",
       "119                            12.7             22.2                    15.2   \n",
       "120                            11.1             17.5                    12.9   \n",
       "\n",
       "     Local Purchasing Power Index  \n",
       "0                           158.7  \n",
       "1                            54.6  \n",
       "2                           120.3  \n",
       "3                           111.1  \n",
       "4                            43.5  \n",
       "..                            ...  \n",
       "116                          33.1  \n",
       "117                          82.6  \n",
       "118                          20.0  \n",
       "119                          42.0  \n",
       "120                          29.1  \n",
       "\n",
       "[121 rows x 8 columns]"
      ]
     },
     "execution_count": 5,
     "metadata": {},
     "output_type": "execute_result"
    }
   ],
   "source": [
    "# Exploratory Analysis\n",
    "data"
   ]
  },
  {
   "cell_type": "code",
   "execution_count": 6,
   "id": "92e700c3-6c79-441b-8203-00b7f919739a",
   "metadata": {},
   "outputs": [
    {
     "data": {
      "text/plain": [
       "(121, 8)"
      ]
     },
     "execution_count": 6,
     "metadata": {},
     "output_type": "execute_result"
    }
   ],
   "source": [
    "data.shape"
   ]
  },
  {
   "cell_type": "code",
   "execution_count": 8,
   "id": "a33e7eab-13a6-4c49-81c2-9ff80cdfe8e6",
   "metadata": {},
   "outputs": [
    {
     "data": {
      "text/plain": [
       "Index(['Rank', 'Country', 'Cost of Living Index', 'Rent Index',\n",
       "       'Cost of Living Plus Rent Index', 'Groceries Index',\n",
       "       'Restaurant Price Index', 'Local Purchasing Power Index'],\n",
       "      dtype='object')"
      ]
     },
     "execution_count": 8,
     "metadata": {},
     "output_type": "execute_result"
    }
   ],
   "source": [
    "data.columns"
   ]
  },
  {
   "cell_type": "code",
   "execution_count": 10,
   "id": "408d94c8-f289-459b-8b7a-c4ace2cd17ee",
   "metadata": {},
   "outputs": [
    {
     "name": "stdout",
     "output_type": "stream",
     "text": [
      "<class 'pandas.core.frame.DataFrame'>\n",
      "RangeIndex: 121 entries, 0 to 120\n",
      "Data columns (total 8 columns):\n",
      " #   Column                          Non-Null Count  Dtype  \n",
      "---  ------                          --------------  -----  \n",
      " 0   Rank                            121 non-null    int64  \n",
      " 1   Country                         121 non-null    object \n",
      " 2   Cost of Living Index            121 non-null    float64\n",
      " 3   Rent Index                      121 non-null    float64\n",
      " 4   Cost of Living Plus Rent Index  121 non-null    float64\n",
      " 5   Groceries Index                 121 non-null    float64\n",
      " 6   Restaurant Price Index          121 non-null    float64\n",
      " 7   Local Purchasing Power Index    121 non-null    float64\n",
      "dtypes: float64(6), int64(1), object(1)\n",
      "memory usage: 7.7+ KB\n"
     ]
    }
   ],
   "source": [
    "data.info()"
   ]
  },
  {
   "cell_type": "markdown",
   "id": "d17c60c1-e431-45a2-81df-1a409dd7d1b4",
   "metadata": {},
   "source": [
    "## Answer Questions! "
   ]
  },
  {
   "cell_type": "code",
   "execution_count": 18,
   "id": "19b420b2-e1f3-450d-9433-110ee117d540",
   "metadata": {},
   "outputs": [],
   "source": [
    "# Question 1: What countries have the Most and Least expensive cost of living including rent compared to New York?\n",
    "cost = data[['Rank', 'Country', 'Cost of Living Plus Rent Index']]"
   ]
  },
  {
   "cell_type": "code",
   "execution_count": 19,
   "id": "fb2547fd-9614-4ccf-83f2-be7e89734628",
   "metadata": {},
   "outputs": [
    {
     "data": {
      "text/html": [
       "<div>\n",
       "<style scoped>\n",
       "    .dataframe tbody tr th:only-of-type {\n",
       "        vertical-align: middle;\n",
       "    }\n",
       "\n",
       "    .dataframe tbody tr th {\n",
       "        vertical-align: top;\n",
       "    }\n",
       "\n",
       "    .dataframe thead th {\n",
       "        text-align: right;\n",
       "    }\n",
       "</style>\n",
       "<table border=\"1\" class=\"dataframe\">\n",
       "  <thead>\n",
       "    <tr style=\"text-align: right;\">\n",
       "      <th></th>\n",
       "      <th>Rank</th>\n",
       "      <th>Country</th>\n",
       "      <th>Cost of Living Plus Rent Index</th>\n",
       "    </tr>\n",
       "  </thead>\n",
       "  <tbody>\n",
       "    <tr>\n",
       "      <th>0</th>\n",
       "      <td>1</td>\n",
       "      <td>Switzerland</td>\n",
       "      <td>74.9</td>\n",
       "    </tr>\n",
       "    <tr>\n",
       "      <th>1</th>\n",
       "      <td>2</td>\n",
       "      <td>Bahamas</td>\n",
       "      <td>61.8</td>\n",
       "    </tr>\n",
       "    <tr>\n",
       "      <th>2</th>\n",
       "      <td>3</td>\n",
       "      <td>Iceland</td>\n",
       "      <td>62.0</td>\n",
       "    </tr>\n",
       "    <tr>\n",
       "      <th>3</th>\n",
       "      <td>4</td>\n",
       "      <td>Singapore</td>\n",
       "      <td>72.1</td>\n",
       "    </tr>\n",
       "    <tr>\n",
       "      <th>4</th>\n",
       "      <td>5</td>\n",
       "      <td>Barbados</td>\n",
       "      <td>48.9</td>\n",
       "    </tr>\n",
       "  </tbody>\n",
       "</table>\n",
       "</div>"
      ],
      "text/plain": [
       "   Rank      Country  Cost of Living Plus Rent Index\n",
       "0     1  Switzerland                            74.9\n",
       "1     2      Bahamas                            61.8\n",
       "2     3      Iceland                            62.0\n",
       "3     4    Singapore                            72.1\n",
       "4     5     Barbados                            48.9"
      ]
     },
     "execution_count": 19,
     "metadata": {},
     "output_type": "execute_result"
    }
   ],
   "source": [
    "cost.head()"
   ]
  },
  {
   "cell_type": "code",
   "execution_count": 43,
   "id": "3b2cfaeb-4fa0-4419-840a-9d9ef13a31ef",
   "metadata": {},
   "outputs": [
    {
     "data": {
      "text/html": [
       "<div>\n",
       "<style scoped>\n",
       "    .dataframe tbody tr th:only-of-type {\n",
       "        vertical-align: middle;\n",
       "    }\n",
       "\n",
       "    .dataframe tbody tr th {\n",
       "        vertical-align: top;\n",
       "    }\n",
       "\n",
       "    .dataframe thead th {\n",
       "        text-align: right;\n",
       "    }\n",
       "</style>\n",
       "<table border=\"1\" class=\"dataframe\">\n",
       "  <thead>\n",
       "    <tr style=\"text-align: right;\">\n",
       "      <th></th>\n",
       "      <th>Rank</th>\n",
       "      <th>Country</th>\n",
       "      <th>Cost of Living Plus Rent Index</th>\n",
       "    </tr>\n",
       "  </thead>\n",
       "  <tbody>\n",
       "    <tr>\n",
       "      <th>0</th>\n",
       "      <td>1</td>\n",
       "      <td>Switzerland</td>\n",
       "      <td>74.9</td>\n",
       "    </tr>\n",
       "  </tbody>\n",
       "</table>\n",
       "</div>"
      ],
      "text/plain": [
       "   Rank      Country  Cost of Living Plus Rent Index\n",
       "0     1  Switzerland                            74.9"
      ]
     },
     "execution_count": 43,
     "metadata": {},
     "output_type": "execute_result"
    }
   ],
   "source": [
    "# Most Expensive\n",
    "expensive = cost.sort_values(by = 'Cost of Living Plus Rent Index', ascending = False)[:1]"
   ]
  },
  {
   "cell_type": "code",
   "execution_count": 44,
   "id": "33b1bf8d-cca2-4496-9dad-2172b77c5f69",
   "metadata": {},
   "outputs": [
    {
     "data": {
      "text/html": [
       "<div>\n",
       "<style scoped>\n",
       "    .dataframe tbody tr th:only-of-type {\n",
       "        vertical-align: middle;\n",
       "    }\n",
       "\n",
       "    .dataframe tbody tr th {\n",
       "        vertical-align: top;\n",
       "    }\n",
       "\n",
       "    .dataframe thead th {\n",
       "        text-align: right;\n",
       "    }\n",
       "</style>\n",
       "<table border=\"1\" class=\"dataframe\">\n",
       "  <thead>\n",
       "    <tr style=\"text-align: right;\">\n",
       "      <th></th>\n",
       "      <th>Rank</th>\n",
       "      <th>Country</th>\n",
       "      <th>Cost of Living Plus Rent Index</th>\n",
       "    </tr>\n",
       "  </thead>\n",
       "  <tbody>\n",
       "    <tr>\n",
       "      <th>120</th>\n",
       "      <td>121</td>\n",
       "      <td>Pakistan</td>\n",
       "      <td>11.1</td>\n",
       "    </tr>\n",
       "  </tbody>\n",
       "</table>\n",
       "</div>"
      ],
      "text/plain": [
       "     Rank   Country  Cost of Living Plus Rent Index\n",
       "120   121  Pakistan                            11.1"
      ]
     },
     "execution_count": 44,
     "metadata": {},
     "output_type": "execute_result"
    }
   ],
   "source": [
    "# Least Expensive\n",
    "cheap = cost.sort_values(by = 'Cost of Living Plus Rent Index')[:1]\n",
    "cheap"
   ]
  },
  {
   "cell_type": "code",
   "execution_count": 13,
   "id": "8e44e224-4006-45c1-a915-8b15b4d1b6e2",
   "metadata": {},
   "outputs": [
    {
     "data": {
      "text/html": [
       "<div>\n",
       "<style scoped>\n",
       "    .dataframe tbody tr th:only-of-type {\n",
       "        vertical-align: middle;\n",
       "    }\n",
       "\n",
       "    .dataframe tbody tr th {\n",
       "        vertical-align: top;\n",
       "    }\n",
       "\n",
       "    .dataframe thead th {\n",
       "        text-align: right;\n",
       "    }\n",
       "</style>\n",
       "<table border=\"1\" class=\"dataframe\">\n",
       "  <thead>\n",
       "    <tr style=\"text-align: right;\">\n",
       "      <th></th>\n",
       "      <th>Rank</th>\n",
       "      <th>Country</th>\n",
       "      <th>Cost of Living Index</th>\n",
       "      <th>Rent Index</th>\n",
       "      <th>Cost of Living Plus Rent Index</th>\n",
       "      <th>Groceries Index</th>\n",
       "      <th>Restaurant Price Index</th>\n",
       "      <th>Local Purchasing Power Index</th>\n",
       "    </tr>\n",
       "  </thead>\n",
       "  <tbody>\n",
       "    <tr>\n",
       "      <th>8</th>\n",
       "      <td>9</td>\n",
       "      <td>United States</td>\n",
       "      <td>70.4</td>\n",
       "      <td>41.7</td>\n",
       "      <td>56.6</td>\n",
       "      <td>75.0</td>\n",
       "      <td>67.2</td>\n",
       "      <td>142.3</td>\n",
       "    </tr>\n",
       "    <tr>\n",
       "      <th>26</th>\n",
       "      <td>27</td>\n",
       "      <td>United Arab Emirates</td>\n",
       "      <td>55.8</td>\n",
       "      <td>41.3</td>\n",
       "      <td>48.9</td>\n",
       "      <td>45.3</td>\n",
       "      <td>49.2</td>\n",
       "      <td>127.9</td>\n",
       "    </tr>\n",
       "  </tbody>\n",
       "</table>\n",
       "</div>"
      ],
      "text/plain": [
       "    Rank               Country  Cost of Living Index  Rent Index  \\\n",
       "8      9         United States                  70.4        41.7   \n",
       "26    27  United Arab Emirates                  55.8        41.3   \n",
       "\n",
       "    Cost of Living Plus Rent Index  Groceries Index  Restaurant Price Index  \\\n",
       "8                             56.6             75.0                    67.2   \n",
       "26                            48.9             45.3                    49.2   \n",
       "\n",
       "    Local Purchasing Power Index  \n",
       "8                          142.3  \n",
       "26                         127.9  "
      ]
     },
     "execution_count": 13,
     "metadata": {},
     "output_type": "execute_result"
    }
   ],
   "source": [
    "# Question 2: How does the United Arab Emirates (Dubai) index’s compare to New York?\n",
    "data[(data['Country'] == 'United Arab Emirates') | (data['Country'] == 'United States')]"
   ]
  },
  {
   "cell_type": "code",
   "execution_count": 30,
   "id": "921b4ba6-7aee-4414-b7ac-a93b55fc1da7",
   "metadata": {},
   "outputs": [
    {
     "data": {
      "text/html": [
       "<div>\n",
       "<style scoped>\n",
       "    .dataframe tbody tr th:only-of-type {\n",
       "        vertical-align: middle;\n",
       "    }\n",
       "\n",
       "    .dataframe tbody tr th {\n",
       "        vertical-align: top;\n",
       "    }\n",
       "\n",
       "    .dataframe thead th {\n",
       "        text-align: right;\n",
       "    }\n",
       "</style>\n",
       "<table border=\"1\" class=\"dataframe\">\n",
       "  <thead>\n",
       "    <tr style=\"text-align: right;\">\n",
       "      <th></th>\n",
       "      <th>Rank</th>\n",
       "      <th>Country</th>\n",
       "      <th>Cost of Living Index</th>\n",
       "      <th>Rent Index</th>\n",
       "      <th>Cost of Living Plus Rent Index</th>\n",
       "      <th>Groceries Index</th>\n",
       "      <th>Restaurant Price Index</th>\n",
       "      <th>Local Purchasing Power Index</th>\n",
       "    </tr>\n",
       "  </thead>\n",
       "  <tbody>\n",
       "    <tr>\n",
       "      <th>1</th>\n",
       "      <td>2</td>\n",
       "      <td>Bahamas</td>\n",
       "      <td>85.0</td>\n",
       "      <td>36.7</td>\n",
       "      <td>61.8</td>\n",
       "      <td>81.6</td>\n",
       "      <td>83.3</td>\n",
       "      <td>54.6</td>\n",
       "    </tr>\n",
       "  </tbody>\n",
       "</table>\n",
       "</div>"
      ],
      "text/plain": [
       "   Rank  Country  Cost of Living Index  Rent Index  \\\n",
       "1     2  Bahamas                  85.0        36.7   \n",
       "\n",
       "   Cost of Living Plus Rent Index  Groceries Index  Restaurant Price Index  \\\n",
       "1                            61.8             81.6                    83.3   \n",
       "\n",
       "   Local Purchasing Power Index  \n",
       "1                          54.6  "
      ]
     },
     "execution_count": 30,
     "metadata": {},
     "output_type": "execute_result"
    }
   ],
   "source": [
    "# Question 3: How much cheaper is it to rent and buy groceries in the Bahamas compared to NY?\n",
    "data[data['Country'].isin(['Bahamas'])]\n",
    "# Using loc\n",
    "# data.loc[data['Country'] == 'Bahamas']"
   ]
  },
  {
   "cell_type": "code",
   "execution_count": null,
   "id": "9fdc4c16-87f0-47e1-a998-b3b8bd427864",
   "metadata": {},
   "outputs": [],
   "source": [
    "print(f'It is 63.3% cheaper to rent in the Bahamas and 19.4% cheaper to buy groceries.')"
   ]
  },
  {
   "cell_type": "code",
   "execution_count": 36,
   "id": "ba289cd1-b818-4dbb-9f7c-87871d7030fc",
   "metadata": {},
   "outputs": [],
   "source": [
    "# Question 4: On average how much more expensive is it to buy groceries in NY compared to India?\n",
    "groceries = data[['Groceries Index', 'Country']]"
   ]
  },
  {
   "cell_type": "code",
   "execution_count": 37,
   "id": "873e2a34-ab79-497f-8e6c-e34fc4f6fd9a",
   "metadata": {},
   "outputs": [
    {
     "data": {
      "text/html": [
       "<div>\n",
       "<style scoped>\n",
       "    .dataframe tbody tr th:only-of-type {\n",
       "        vertical-align: middle;\n",
       "    }\n",
       "\n",
       "    .dataframe tbody tr th {\n",
       "        vertical-align: top;\n",
       "    }\n",
       "\n",
       "    .dataframe thead th {\n",
       "        text-align: right;\n",
       "    }\n",
       "</style>\n",
       "<table border=\"1\" class=\"dataframe\">\n",
       "  <thead>\n",
       "    <tr style=\"text-align: right;\">\n",
       "      <th></th>\n",
       "      <th>Groceries Index</th>\n",
       "      <th>Country</th>\n",
       "    </tr>\n",
       "  </thead>\n",
       "  <tbody>\n",
       "    <tr>\n",
       "      <th>117</th>\n",
       "      <td>23.8</td>\n",
       "      <td>India</td>\n",
       "    </tr>\n",
       "  </tbody>\n",
       "</table>\n",
       "</div>"
      ],
      "text/plain": [
       "     Groceries Index Country\n",
       "117             23.8   India"
      ]
     },
     "execution_count": 37,
     "metadata": {},
     "output_type": "execute_result"
    }
   ],
   "source": [
    "groceries[groceries['Country'] == 'India']"
   ]
  },
  {
   "cell_type": "code",
   "execution_count": 38,
   "id": "c921a9ff-60a0-48c8-8296-c2d717859dbd",
   "metadata": {},
   "outputs": [
    {
     "name": "stdout",
     "output_type": "stream",
     "text": [
      "It is 76.2% less expensive to buy groceries in India compared to NY\n"
     ]
    }
   ],
   "source": [
    "print(f'With an average salary, it is 76.2% less expensive to buy groceries in India compared to NY')"
   ]
  },
  {
   "cell_type": "markdown",
   "id": "d111eae0-1363-4e7e-aa69-a549d01c3c8c",
   "metadata": {},
   "source": [
    "## Visualizations!"
   ]
  },
  {
   "cell_type": "code",
   "execution_count": 7,
   "id": "c18b7219-5f98-4e70-b512-21b0fa8a147c",
   "metadata": {},
   "outputs": [],
   "source": [
    "# 1. Create a visualization of the top 10 countries with the highest cost of living\n",
    "import seaborn as sns\n",
    "import matplotlib.pyplot as plt\n",
    "import matplotlib.colors as mcolors"
   ]
  },
  {
   "cell_type": "code",
   "execution_count": 50,
   "id": "1afc2deb-321d-4f20-9275-4ea990842bde",
   "metadata": {},
   "outputs": [],
   "source": [
    "top_10 = data[['Country', 'Cost of Living Index']].sort_values(by = 'Cost of Living Index', ascending = False)[:10]"
   ]
  },
  {
   "cell_type": "code",
   "execution_count": 51,
   "id": "5f5fcf12-6a23-4d90-9bb2-a057b6a13a3d",
   "metadata": {},
   "outputs": [
    {
     "data": {
      "text/html": [
       "<div>\n",
       "<style scoped>\n",
       "    .dataframe tbody tr th:only-of-type {\n",
       "        vertical-align: middle;\n",
       "    }\n",
       "\n",
       "    .dataframe tbody tr th {\n",
       "        vertical-align: top;\n",
       "    }\n",
       "\n",
       "    .dataframe thead th {\n",
       "        text-align: right;\n",
       "    }\n",
       "</style>\n",
       "<table border=\"1\" class=\"dataframe\">\n",
       "  <thead>\n",
       "    <tr style=\"text-align: right;\">\n",
       "      <th></th>\n",
       "      <th>Country</th>\n",
       "      <th>Cost of Living Index</th>\n",
       "    </tr>\n",
       "  </thead>\n",
       "  <tbody>\n",
       "    <tr>\n",
       "      <th>0</th>\n",
       "      <td>Switzerland</td>\n",
       "      <td>101.1</td>\n",
       "    </tr>\n",
       "    <tr>\n",
       "      <th>1</th>\n",
       "      <td>Bahamas</td>\n",
       "      <td>85.0</td>\n",
       "    </tr>\n",
       "    <tr>\n",
       "      <th>2</th>\n",
       "      <td>Iceland</td>\n",
       "      <td>83.0</td>\n",
       "    </tr>\n",
       "    <tr>\n",
       "      <th>3</th>\n",
       "      <td>Singapore</td>\n",
       "      <td>76.7</td>\n",
       "    </tr>\n",
       "    <tr>\n",
       "      <th>4</th>\n",
       "      <td>Barbados</td>\n",
       "      <td>76.6</td>\n",
       "    </tr>\n",
       "    <tr>\n",
       "      <th>5</th>\n",
       "      <td>Norway</td>\n",
       "      <td>76.0</td>\n",
       "    </tr>\n",
       "    <tr>\n",
       "      <th>6</th>\n",
       "      <td>Denmark</td>\n",
       "      <td>72.3</td>\n",
       "    </tr>\n",
       "    <tr>\n",
       "      <th>7</th>\n",
       "      <td>Hong Kong (China)</td>\n",
       "      <td>70.8</td>\n",
       "    </tr>\n",
       "    <tr>\n",
       "      <th>8</th>\n",
       "      <td>United States</td>\n",
       "      <td>70.4</td>\n",
       "    </tr>\n",
       "    <tr>\n",
       "      <th>9</th>\n",
       "      <td>Australia</td>\n",
       "      <td>70.2</td>\n",
       "    </tr>\n",
       "  </tbody>\n",
       "</table>\n",
       "</div>"
      ],
      "text/plain": [
       "             Country  Cost of Living Index\n",
       "0        Switzerland                 101.1\n",
       "1            Bahamas                  85.0\n",
       "2            Iceland                  83.0\n",
       "3          Singapore                  76.7\n",
       "4           Barbados                  76.6\n",
       "5             Norway                  76.0\n",
       "6            Denmark                  72.3\n",
       "7  Hong Kong (China)                  70.8\n",
       "8      United States                  70.4\n",
       "9          Australia                  70.2"
      ]
     },
     "execution_count": 51,
     "metadata": {},
     "output_type": "execute_result"
    }
   ],
   "source": [
    "top_10"
   ]
  },
  {
   "cell_type": "code",
   "execution_count": 56,
   "id": "02348f97-ee82-4121-a493-87f4c356517a",
   "metadata": {},
   "outputs": [
    {
     "data": {
      "image/png": "[encoded data removed]",
      "text/plain": [
       "<Figure size 640x480 with 1 Axes>"
      ]
     },
     "metadata": {},
     "output_type": "display_data"
    }
   ],
   "source": [
    "# Define a colormap\n",
    "cmap = plt.get_cmap('viridis')\n",
    "\n",
    "# Normalize \n",
    "norm = plt.Normalize(min(top_10['Cost of Living Index']), max(top_10['Cost of Living Index']))\n",
    "\n",
    "# Create the bar chart, color based on 'Cost of Living Index' norm. \n",
    "bars = plt.bar(top_10['Country'], top_10['Cost of Living Index'], color = cmap(norm(top_10['Cost of Living Index'])))\n",
    "\n",
    "# Labels and title\n",
    "plt.xlabel('Country')\n",
    "plt.ylabel('Cost of Living Index')\n",
    "plt.title('Top 10 Countries by Cost of Living Index')\n",
    "plt.xticks(rotation=45)\n",
    "plt.show()"
   ]
  },
  {
   "cell_type": "code",
   "execution_count": 29,
   "id": "8a28f471-ebe0-497d-aa02-b9215807a519",
   "metadata": {},
   "outputs": [
    {
     "data": {
      "text/html": [
       "<div>\n",
       "<style scoped>\n",
       "    .dataframe tbody tr th:only-of-type {\n",
       "        vertical-align: middle;\n",
       "    }\n",
       "\n",
       "    .dataframe tbody tr th {\n",
       "        vertical-align: top;\n",
       "    }\n",
       "\n",
       "    .dataframe thead th {\n",
       "        text-align: right;\n",
       "    }\n",
       "</style>\n",
       "<table border=\"1\" class=\"dataframe\">\n",
       "  <thead>\n",
       "    <tr style=\"text-align: right;\">\n",
       "      <th></th>\n",
       "      <th>Rent Index</th>\n",
       "      <th>Local Purchasing Power Index</th>\n",
       "      <th>Rank</th>\n",
       "      <th>Country</th>\n",
       "    </tr>\n",
       "  </thead>\n",
       "  <tbody>\n",
       "    <tr>\n",
       "      <th>0</th>\n",
       "      <td>46.5</td>\n",
       "      <td>158.7</td>\n",
       "      <td>1</td>\n",
       "      <td>Switzerland</td>\n",
       "    </tr>\n",
       "    <tr>\n",
       "      <th>1</th>\n",
       "      <td>36.7</td>\n",
       "      <td>54.6</td>\n",
       "      <td>2</td>\n",
       "      <td>Bahamas</td>\n",
       "    </tr>\n",
       "    <tr>\n",
       "      <th>2</th>\n",
       "      <td>39.2</td>\n",
       "      <td>120.3</td>\n",
       "      <td>3</td>\n",
       "      <td>Iceland</td>\n",
       "    </tr>\n",
       "    <tr>\n",
       "      <th>3</th>\n",
       "      <td>67.2</td>\n",
       "      <td>111.1</td>\n",
       "      <td>4</td>\n",
       "      <td>Singapore</td>\n",
       "    </tr>\n",
       "    <tr>\n",
       "      <th>4</th>\n",
       "      <td>19.0</td>\n",
       "      <td>43.5</td>\n",
       "      <td>5</td>\n",
       "      <td>Barbados</td>\n",
       "    </tr>\n",
       "    <tr>\n",
       "      <th>...</th>\n",
       "      <td>...</td>\n",
       "      <td>...</td>\n",
       "      <td>...</td>\n",
       "      <td>...</td>\n",
       "    </tr>\n",
       "    <tr>\n",
       "      <th>116</th>\n",
       "      <td>2.4</td>\n",
       "      <td>33.1</td>\n",
       "      <td>117</td>\n",
       "      <td>Bangladesh</td>\n",
       "    </tr>\n",
       "    <tr>\n",
       "      <th>117</th>\n",
       "      <td>5.6</td>\n",
       "      <td>82.6</td>\n",
       "      <td>118</td>\n",
       "      <td>India</td>\n",
       "    </tr>\n",
       "    <tr>\n",
       "      <th>118</th>\n",
       "      <td>3.7</td>\n",
       "      <td>20.0</td>\n",
       "      <td>119</td>\n",
       "      <td>Egypt</td>\n",
       "    </tr>\n",
       "    <tr>\n",
       "      <th>119</th>\n",
       "      <td>4.3</td>\n",
       "      <td>42.0</td>\n",
       "      <td>120</td>\n",
       "      <td>Libya</td>\n",
       "    </tr>\n",
       "    <tr>\n",
       "      <th>120</th>\n",
       "      <td>2.8</td>\n",
       "      <td>29.1</td>\n",
       "      <td>121</td>\n",
       "      <td>Pakistan</td>\n",
       "    </tr>\n",
       "  </tbody>\n",
       "</table>\n",
       "<p>121 rows × 4 columns</p>\n",
       "</div>"
      ],
      "text/plain": [
       "     Rent Index  Local Purchasing Power Index  Rank      Country\n",
       "0          46.5                         158.7     1  Switzerland\n",
       "1          36.7                          54.6     2      Bahamas\n",
       "2          39.2                         120.3     3      Iceland\n",
       "3          67.2                         111.1     4    Singapore\n",
       "4          19.0                          43.5     5     Barbados\n",
       "..          ...                           ...   ...          ...\n",
       "116         2.4                          33.1   117   Bangladesh\n",
       "117         5.6                          82.6   118        India\n",
       "118         3.7                          20.0   119        Egypt\n",
       "119         4.3                          42.0   120        Libya\n",
       "120         2.8                          29.1   121     Pakistan\n",
       "\n",
       "[121 rows x 4 columns]"
      ]
     },
     "execution_count": 29,
     "metadata": {},
     "output_type": "execute_result"
    }
   ],
   "source": [
    "# 2: Create a scatterplot to see if there is a correlation between rent and the amount of purchasing power one has\n",
    "corr = data[['Rent Index', 'Local Purchasing Power Index', 'Rank', 'Country']]\n",
    "corr"
   ]
  },
  {
   "cell_type": "code",
   "execution_count": 47,
   "id": "dab33340-c52e-4399-863b-6a6792166869",
   "metadata": {},
   "outputs": [
    {
     "data": {
      "text/plain": [
       "Text(0.5, 1.0, 'Correlation Between Rent and Purchasing Power')"
      ]
     },
     "execution_count": 47,
     "metadata": {},
     "output_type": "execute_result"
    },
    {
     "data": {
      "image/png": "[encoded data removed]",
      "text/plain": [
       "<Figure size 640x480 with 2 Axes>"
      ]
     },
     "metadata": {},
     "output_type": "display_data"
    }
   ],
   "source": [
    "# Matplotlib Scatter Plot\n",
    "plt.scatter(corr['Rent Index'], corr['Local Purchasing Power Index'], c=corr['Rank'], cmap = 'viridis')\n",
    "plt.colorbar(label = 'Rank')\n",
    "plt.xlabel('Rent Index')\n",
    "plt.ylabel('Local Purchasing Power Index')\n",
    "plt.title('Correlation Between Rent and Purchasing Power')"
   ]
  },
  {
   "cell_type": "code",
   "execution_count": null,
   "id": "bfd682ef-e3af-4b06-a910-031dc1cff735",
   "metadata": {},
   "outputs": [],
   "source": []
  }
 ],
 "metadata": {
  "kernelspec": {
   "display_name": "Python 3 (ipykernel)",
   "language": "python",
   "name": "python3"
  },
  "language_info": {
   "codemirror_mode": {
    "name": "ipython",
    "version": 3
   },
   "file_extension": ".py",
   "mimetype": "text/x-python",
   "name": "python",
   "nbconvert_exporter": "python",
   "pygments_lexer": "ipython3",
   "version": "3.12.2"
  }
 },
 "nbformat": 4,
 "nbformat_minor": 5
}
